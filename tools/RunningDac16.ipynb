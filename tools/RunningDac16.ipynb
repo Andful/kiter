{
 "cells": [
  {
   "cell_type": "code",
   "execution_count": 10,
   "metadata": {},
   "outputs": [],
   "source": [
    "from functools import partial\n",
    "import subprocess\n",
    "import glob\n",
    "import time\n",
    "import numpy as np\n",
    "\n",
    "TAB_SIZE  = 15\n",
    "TIMEOUT   = 40\n",
    "ITER      = 10\n",
    "\n",
    "kiter_executable = \"../Release/bin/kiter\"\n",
    "benchmark_dir = \"../benchmarks\"\n",
    "\n",
    "cmdKperiodic = lambda filename : [kiter_executable, \"-f\", filename,  \"-a\", \"KPeriodicThroughput\"]\n",
    "\n",
    "\n",
    "class BenchmarkResult :\n",
    "    status_code    = \"EMPTY\"\n",
    "    execution_time = None\n",
    "    stdout         = None\n",
    "\n",
    "    def __init__ (self, et = None, stdout = None, status_code = \"EMPTY\") :\n",
    "        self.status_code = status_code\n",
    "        self.execution_time = et\n",
    "        if (type(stdout) == bytes) :\n",
    "            self.stdout         = stdout.decode(\"utf-8\") \n",
    "        else :\n",
    "            self.stdout         = stdout\n",
    "            \n",
    "    def getExecutionTime(self) :\n",
    "        return self.execution_time\n",
    "    \n",
    "    def getComputeTime (self):\n",
    "        if (not self.stdout) : return None\n",
    "        for l in self.stdout.split(\"\\n\") :\n",
    "            if \"Time\" in l :\n",
    "                return float(l.split(\" \")[-1])\n",
    "    \n",
    "def runBenchmarkOnce (filename,timeout) :\n",
    "    \n",
    "    command = cmdKperiodic(filename = filename)\n",
    "    \n",
    "    try :\n",
    "        start_time = time.time()\n",
    "        result = subprocess.run(command, stdout=subprocess.PIPE,timeout = timeout)\n",
    "        end_time = time.time()\n",
    "        executiontime = (end_time  - start_time) * 1000\n",
    "        output = result.stdout\n",
    "        return BenchmarkResult (executiontime  ,  output , \"FINISHED\")\n",
    "    except subprocess.TimeoutExpired as e:\n",
    "        return BenchmarkResult (None  ,  None , \"TIMEOUT\")\n",
    "    except FileNotFoundError :\n",
    "        return BenchmarkResult (None  ,  None , \"NOT FOUND\")\n",
    "    except _ as e :\n",
    "        return BenchmarkResult (None  ,  None , \"ERROR\")\n",
    "\n",
    "def runBenchmark (filename, it, timeout) :\n",
    "    execution_times = []\n",
    "    compute_times = []\n",
    "    for _ in range(it) :\n",
    "        res = runBenchmarkOnce (filename,timeout = timeout)\n",
    "        execution_times += [res.getExecutionTime()]\n",
    "        compute_times += [res.getComputeTime()]\n",
    "    if None in execution_times or None in compute_times :\n",
    "        return None, None\n",
    "    return np.median(execution_times) ,  np.median(compute_times)\n",
    "\n",
    "def formatTime (et , rj = 10) : \n",
    "    return '{:.2f} ms'.format(et).rjust(rj) if et else '-'.rjust(rj)\n",
    "    \n",
    "def runBenchmarks (filelist, it = ITER, timeout = TIMEOUT) :\n",
    "    colSize = max([len(x) for x in filelist])\n",
    "\n",
    "    print(\"Name\".rjust(colSize), \"ExecutionTime\".rjust(15), \"ComputeTime\".rjust(15), \"Status\".rjust(TAB_SIZE))\n",
    "    for filename in sorted(filelist) :\n",
    "        execution_time,compute_time  = runBenchmark(filename, it = it, timeout = timeout)\n",
    "        print(filename.rjust(colSize),\n",
    "              formatTime(execution_time,TAB_SIZE),\n",
    "              formatTime(compute_time,TAB_SIZE))\n",
    "\n",
    "\n",
    "IB5CSDF  = glob.glob(benchmark_dir + '/IB5CSDF/*.xml')\n",
    "AGB5CSDF = glob.glob(benchmark_dir + '/AGB5CSDF/*.xml')"
   ]
  },
  {
   "cell_type": "code",
   "execution_count": 11,
   "metadata": {},
   "outputs": [
    {
     "name": "stdout",
     "output_type": "stream",
     "text": [
      "                                        Name   ExecutionTime     ComputeTime          Status\n",
      "      ../benchmarks/IB5CSDF/BlackScholes.xml        19.81 ms         0.74 ms\n",
      "../benchmarks/IB5CSDF/BlackScholes_sized.xml        12.42 ms         1.04 ms\n",
      "              ../benchmarks/IB5CSDF/Echo.xml         8.69 ms         0.30 ms\n",
      "        ../benchmarks/IB5CSDF/Echo_sized.xml               -               -\n",
      "              ../benchmarks/IB5CSDF/H264.xml       290.36 ms        32.64 ms\n",
      "        ../benchmarks/IB5CSDF/H264_sized.xml       853.31 ms        70.70 ms\n",
      "          ../benchmarks/IB5CSDF/JPEG2000.xml        45.66 ms         4.19 ms\n",
      "    ../benchmarks/IB5CSDF/JPEG2000_sized.xml       887.63 ms       803.34 ms\n",
      "          ../benchmarks/IB5CSDF/PDectect.xml        27.98 ms         7.64 ms\n",
      "    ../benchmarks/IB5CSDF/PDectect_sized.xml        37.48 ms        13.02 ms\n"
     ]
    }
   ],
   "source": [
    "# This is an example, \n",
    "# for correct usage please change it\n",
    "# - the `timeout` needs to be around 20 sec to execute the entire benchmark.\n",
    "# - the `it` should be around 10.\n",
    "runBenchmarks (IB5CSDF, it = 1, timeout = 1) "
   ]
  },
  {
   "cell_type": "code",
   "execution_count": 9,
   "metadata": {},
   "outputs": [
    {
     "name": "stdout",
     "output_type": "stream",
     "text": [
      "                               Name   ExecutionTime     ComputeTime          Status\n",
      "../benchmarks/AGB5CSDF/autogen1.xml               -               -\n",
      "../benchmarks/AGB5CSDF/autogen2.xml               -               -\n",
      "../benchmarks/AGB5CSDF/autogen3.xml               -               -\n",
      "../benchmarks/AGB5CSDF/autogen4.xml       964.35 ms       113.63 ms\n",
      "../benchmarks/AGB5CSDF/autogen5.xml      7892.58 ms      6566.93 ms\n"
     ]
    }
   ],
   "source": [
    "# This is an example, \n",
    "# for correct usage please change it\n",
    "# - the `timeout` needs to be much higher.\n",
    "# - the `it` should be around 10.\n",
    "runBenchmarks (AGB5CSDF, it = 1, timeout = 10) "
   ]
  },
  {
   "cell_type": "code",
   "execution_count": null,
   "metadata": {},
   "outputs": [],
   "source": []
  }
 ],
 "metadata": {
  "kernelspec": {
   "display_name": "Python 3",
   "language": "python",
   "name": "python3"
  },
  "language_info": {
   "codemirror_mode": {
    "name": "ipython",
    "version": 3
   },
   "file_extension": ".py",
   "mimetype": "text/x-python",
   "name": "python",
   "nbconvert_exporter": "python",
   "pygments_lexer": "ipython3",
   "version": "3.7.7"
  },
  "toc": {
   "base_numbering": 1,
   "nav_menu": {},
   "number_sections": true,
   "sideBar": true,
   "skip_h1_title": false,
   "title_cell": "Table of Contents",
   "title_sidebar": "Contents",
   "toc_cell": false,
   "toc_position": {},
   "toc_section_display": true,
   "toc_window_display": false
  }
 },
 "nbformat": 4,
 "nbformat_minor": 2
}

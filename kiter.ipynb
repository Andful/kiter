{
 "cells": [
  {
   "cell_type": "code",
   "execution_count": 2,
   "metadata": {},
   "outputs": [],
   "source": [
    "#pragma cling add_include_path(\"/usr/include/\")\n",
    "#define __THROWNL \n",
    "#define __GLIBC_USE(...) 0\n",
    "#pragma cling add_include_path(\"/home/toky/work/kiter/src/libkiter/\")\n",
    "#pragma cling load(\"/home/toky/work/kiter/Debug/lib/libkiter_models.so\")\n",
    "#pragma cling load(\"/home/toky/work/kiter/Debug/lib/libkiter_printers.so\")\n",
    "#pragma cling load(\"/home/toky/work/kiter/Debug/lib/libkiter_algorithms.so\")\n",
    "\n",
    "#include <models/Dataflow.h>\n",
    "#include <commons/SDF3Wrapper.h>\n",
    "#include <printers/stdout.h>\n",
    "#include <algorithms/repetition_vector.h>"
   ]
  },
  {
   "cell_type": "code",
   "execution_count": 3,
   "metadata": {},
   "outputs": [
    {
     "name": "stderr",
     "output_type": "stream",
     "text": [
      "Unable to open file, Setting HW Limit to FOUR\n"
     ]
    },
    {
     "name": "stdout",
     "output_type": "stream",
     "text": [
      "// Auto-generate by Kiter\n",
      "//   use this dot file with circo for an optimal visu\n",
      "\n",
      "digraph G {\n",
      "\n",
      "  graph [label=\"Auto-generate by the Kiter\",overlap=scale,splines=true]\n",
      "  edge [labelangle=15,labeldistance=1,len=1.5,fontsize=8,labelsize=4,color=grey]\n",
      "\n",
      "  t_1 [\n",
      "    shape=circle,\n",
      "    label = \"A\"\n",
      "  ];\n",
      "\n",
      "  t_2 [\n",
      "    shape=circle,\n",
      "    label = \"B\"\n",
      "  ];\n",
      "\n",
      "  t_3 [\n",
      "    shape=circle,\n",
      "    label = \"C\"\n",
      "  ];\n",
      "\n",
      "  t_4 [\n",
      "    shape=circle,\n",
      "    label = \"D\"\n",
      "  ];\n",
      "\n",
      "  t_5 [\n",
      "    shape=circle,\n",
      "    label = \"E\"\n",
      "  ];\n",
      "\n",
      "  t_6 [\n",
      "    shape=circle,\n",
      "    label = \"F\"\n",
      "  ];\n",
      "\n",
      "  t_1 -> t_3 [\n",
      "    label=\"\",\n",
      "    headlabel=\"1 \",\n",
      "    taillabel=\"1 \",\n",
      " ] ;\n",
      "  t_2 -> t_3 [\n",
      "    label=\"\",\n",
      "    headlabel=\"1 \",\n",
      "    taillabel=\"1 \",\n",
      " ] ;\n",
      "  t_3 -> t_4 [\n",
      "    label=\"\",\n",
      "    headlabel=\"1 \",\n",
      "    taillabel=\"1 \",\n",
      " ] ;\n",
      "  t_5 -> t_4 [\n",
      "    label=\"\",\n",
      "    headlabel=\"1 \",\n",
      "    taillabel=\"1 \",\n",
      " ] ;\n",
      "  t_4 -> t_6 [\n",
      "    label=\"\",\n",
      "    headlabel=\"1 \",\n",
      "    taillabel=\"1 \",\n",
      " ] ;\n",
      "\n",
      "}\n"
     ]
    }
   ],
   "source": [
    "try {\n",
    "    models::Dataflow *dataflow = new models::Dataflow ();\n",
    "    dataflow->setName(\"example\");\n",
    "    \n",
    "\n",
    "\n",
    "\n",
    "    auto va = dataflow->addVertex(); dataflow->setVertexName (va, \"A\"); dataflow->setPhasesQuantity (va, 1);dataflow->setVertexDuration (va, {1});\n",
    "    auto vb = dataflow->addVertex(); dataflow->setVertexName (vb, \"B\"); dataflow->setPhasesQuantity (vb, 1);dataflow->setVertexDuration (vb, {1});\n",
    "    auto vc = dataflow->addVertex(); dataflow->setVertexName (vc, \"C\"); dataflow->setPhasesQuantity (vc, 1);dataflow->setVertexDuration (vc, {1});\n",
    "    auto vd = dataflow->addVertex(); dataflow->setVertexName (vd, \"D\"); dataflow->setPhasesQuantity (vd, 1);dataflow->setVertexDuration (vd, {1});\n",
    "    auto ve = dataflow->addVertex(); dataflow->setVertexName (ve, \"E\"); dataflow->setPhasesQuantity (ve, 1);dataflow->setVertexDuration (ve, {1});\n",
    "    auto vf = dataflow->addVertex(); dataflow->setVertexName (vf, \"F\"); dataflow->setPhasesQuantity (vf, 1);dataflow->setVertexDuration (vf, {1});\n",
    "    auto e1 = dataflow->addEdge(va,vc); dataflow->setEdgeOutPhases(e1,{1}); dataflow->setEdgeInPhases(e1,{1}); dataflow->setPreload(e1,0);  \n",
    "    auto e2 = dataflow->addEdge(vb,vc); dataflow->setEdgeOutPhases(e2,{1}); dataflow->setEdgeInPhases(e2,{1}); dataflow->setPreload(e2,0);  \n",
    "    auto e3 = dataflow->addEdge(vc,vd); dataflow->setEdgeOutPhases(e3,{1}); dataflow->setEdgeInPhases(e3,{1}); dataflow->setPreload(e3,0);  \n",
    "    auto e4 = dataflow->addEdge(ve,vd); dataflow->setEdgeOutPhases(e4,{1}); dataflow->setEdgeInPhases(e4,{1}); dataflow->setPreload(e4,0);  \n",
    "    auto e5 = dataflow->addEdge(vd,vf); dataflow->setEdgeOutPhases(e5,{1}); dataflow->setEdgeInPhases(e5,{1}); dataflow->setPreload(e5,0);  \n",
    "    \n",
    "    \n",
    "    \n",
    "    \n",
    "    \n",
    "    printers::printGraph(dataflow);\n",
    "    \n",
    "    commons::writeSDF3File(\"temp.xml\", dataflow);\n",
    "    \n",
    "    VERBOSE_ASSERT(computeRepetitionVector(dataflow),\"inconsistent graph\");\n",
    "   \n",
    "    \n",
    "} catch (...) { std::cout << \"Caught exception\" << std::endl; }"
   ]
  },
  {
   "cell_type": "code",
   "execution_count": 1,
   "metadata": {},
   "outputs": [
    {
     "name": "stderr",
     "output_type": "stream",
     "text": [
      "\u001b[1minput_line_7:2:12: \u001b[0m\u001b[0;1;31merror: \u001b[0m\u001b[1muse of undeclared identifier 'G'\u001b[0m\n",
      " auto nv = G.addVertex();\n",
      "\u001b[0;1;32m           ^\n",
      "\u001b[0m"
     ]
    },
    {
     "ename": "Interpreter Error",
     "evalue": "",
     "output_type": "error",
     "traceback": [
      "Interpreter Error: "
     ]
    }
   ],
   "source": []
  },
  {
   "cell_type": "code",
   "execution_count": null,
   "metadata": {},
   "outputs": [],
   "source": []
  }
 ],
 "metadata": {
  "kernelspec": {
   "display_name": "C++17",
   "language": "C++17",
   "name": "xcpp17"
  },
  "language_info": {
   "codemirror_mode": "text/x-c++src",
   "file_extension": ".cpp",
   "mimetype": "text/x-c++src",
   "name": "c++",
   "version": "17"
  }
 },
 "nbformat": 4,
 "nbformat_minor": 4
}

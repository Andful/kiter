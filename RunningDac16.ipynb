{
 "cells": [
  {
   "cell_type": "code",
   "execution_count": 115,
   "metadata": {},
   "outputs": [],
   "source": [
    "from functools import partial\n",
    "import subprocess\n",
    "import glob\n",
    "import time\n",
    "import numpy as np\n",
    "\n",
    "TAB_SIZE  = 15\n",
    "TIMEOUT   = 40\n",
    "\n",
    "\n",
    "kiter_executable = \"./Release/bin/kiter\"\n",
    "cmdKperiodic = lambda filename : [kiter_executable, \"-f\", filename,  \"-a\", \"KPeriodicThroughput\"]\n",
    "\n",
    "\n",
    "class BenchmarkResult :\n",
    "    status_code    = \"EMPTY\"\n",
    "    execution_time = None\n",
    "    stdout         = None\n",
    "\n",
    "    def __init__ (self, et = None, stdout = None, status_code = \"EMPTY\") :\n",
    "        self.status_code = status_code\n",
    "        self.execution_time = et\n",
    "        if (type(stdout) == bytes) :\n",
    "            self.stdout         = stdout.decode(\"utf-8\") \n",
    "        else :\n",
    "            self.stdout         = stdout\n",
    "            \n",
    "    def getExecutionTime(self) :\n",
    "        return self.execution_time\n",
    "    \n",
    "    def getComputeTime (self):\n",
    "        if (not self.stdout) : return None\n",
    "        for l in self.stdout.split(\"\\n\") :\n",
    "            if \"Time\" in l :\n",
    "                return float(l.split(\" \")[-1])\n",
    "    \n",
    "def runBenchmarkOnce (filename) :\n",
    "    \n",
    "    command = cmdKperiodic(filename = filename)\n",
    "    \n",
    "    try :\n",
    "        start_time = time.time()\n",
    "        result = subprocess.run(command, stdout=subprocess.PIPE,timeout = TIMEOUT)\n",
    "        end_time = time.time()\n",
    "        executiontime = (end_time  - start_time) * 1000\n",
    "        output = result.stdout\n",
    "        return BenchmarkResult (executiontime  ,  output , \"FINISHED\")\n",
    "    except subprocess.TimeoutExpired as e:\n",
    "        return BenchmarkResult (None  ,  None , \"TIMEOUT\")\n",
    "    except FileNotFoundError :\n",
    "        return BenchmarkResult (None  ,  None , \"NOT FOUND\")\n",
    "    except _ as e :\n",
    "        return BenchmarkResult (None  ,  None , \"ERROR\")\n",
    "\n",
    "def runBenchmark (filename, it = 10) :\n",
    "    execution_times = []\n",
    "    compute_times = []\n",
    "    for _ in range(it) :\n",
    "        res = runBenchmarkOnce (filename)\n",
    "        execution_times += [res.getExecutionTime()]\n",
    "        compute_times += [res.getComputeTime()]\n",
    "    if None in execution_times or None in compute_times :\n",
    "        return None, None\n",
    "    return np.median(execution_times) ,  np.median(compute_times)\n",
    "\n",
    "def formatTime (et , rj = 10) : \n",
    "    return '{:.2f} ms'.format(et).rjust(rj) if et else '-'.rjust(rj)\n",
    "    \n",
    "def runBenchmarks (filelist) :\n",
    "    colSize = max([len(x) for x in filelist])\n",
    "\n",
    "    print(\"Name\".rjust(colSize), \"ExecutionTime\".rjust(15), \"ComputeTime\".rjust(15), \"Status\".rjust(TAB_SIZE))\n",
    "    for filename in sorted(filelist) :\n",
    "        execution_time,compute_time  = runBenchmark(filename)\n",
    "        print(filename.rjust(colSize),\n",
    "              formatTime(execution_time,TAB_SIZE),\n",
    "              formatTime(compute_time,TAB_SIZE))\n",
    "\n",
    "\n",
    "benchmarks  = glob.glob('./benchmark/*.xml')\n",
    "benchmarksS = glob.glob('./benchmark_sized/*.xml')\n",
    "benchmarksG = glob.glob('./AGB5CSDF/*.xml')"
   ]
  },
  {
   "cell_type": "code",
   "execution_count": 117,
   "metadata": {},
   "outputs": [
    {
     "name": "stdout",
     "output_type": "stream",
     "text": [
      "                                    Name   ExecutionTime     ComputeTime          Status\n",
      "                      ./benchmark/21.xml         6.68 ms         0.10 ms\n",
      "            ./benchmark/BlackScholes.xml         8.15 ms         0.42 ms\n",
      "                    ./benchmark/Echo.xml         9.80 ms         0.32 ms\n",
      "                    ./benchmark/H264.xml       306.40 ms        32.94 ms\n",
      "                ./benchmark/JPEG2000.xml        55.19 ms         5.00 ms\n",
      "                ./benchmark/Pdectect.xml        32.91 ms        10.07 ms\n",
      "./benchmark/expansion_paper_norm_sdf.xml         6.69 ms         0.10 ms\n",
      "     ./benchmark/expansion_paper_sdf.xml         9.25 ms         0.14 ms\n",
      "             ./benchmark/init_sample.xml         8.29 ms         0.15 ms\n",
      "           ./benchmark/new_benchmark.xml         7.05 ms         0.17 ms\n",
      "                  ./benchmark/sample.xml         7.58 ms         0.13 ms\n",
      "       ./benchmark/simpler_benchmark.xml         8.03 ms         0.08 ms\n"
     ]
    }
   ],
   "source": [
    "runBenchmarks (benchmarks)"
   ]
  },
  {
   "cell_type": "code",
   "execution_count": 118,
   "metadata": {},
   "outputs": [
    {
     "name": "stdout",
     "output_type": "stream",
     "text": [
      "                               Name   ExecutionTime     ComputeTime          Status\n",
      "./benchmark_sized/Black-scholes.xml        12.97 ms         0.86 ms\n",
      "         ./benchmark_sized/Echo.xml      7883.42 ms      7866.23 ms\n",
      "         ./benchmark_sized/H264.xml       890.17 ms        69.79 ms\n",
      "     ./benchmark_sized/JPEG2000.xml       682.08 ms       594.25 ms\n",
      "     ./benchmark_sized/Pdectect.xml        43.94 ms        15.40 ms\n"
     ]
    }
   ],
   "source": [
    "runBenchmarks (benchmarksS)"
   ]
  },
  {
   "cell_type": "code",
   "execution_count": 119,
   "metadata": {},
   "outputs": [
    {
     "name": "stdout",
     "output_type": "stream",
     "text": [
      "                   Name   ExecutionTime     ComputeTime          Status\n",
      "./AGB5CSDF/autogen1.xml               -               -\n",
      "./AGB5CSDF/autogen2.xml               -               -\n",
      "./AGB5CSDF/autogen3.xml               -               -\n",
      "./AGB5CSDF/autogen4.xml      1604.75 ms       155.75 ms\n",
      "./AGB5CSDF/autogen5.xml      9922.34 ms      7661.83 ms\n"
     ]
    }
   ],
   "source": [
    "runBenchmarks (benchmarksG)"
   ]
  },
  {
   "cell_type": "code",
   "execution_count": null,
   "metadata": {},
   "outputs": [],
   "source": []
  }
 ],
 "metadata": {
  "kernelspec": {
   "display_name": "Python 3",
   "language": "python",
   "name": "python3"
  },
  "language_info": {
   "codemirror_mode": {
    "name": "ipython",
    "version": 3
   },
   "file_extension": ".py",
   "mimetype": "text/x-python",
   "name": "python",
   "nbconvert_exporter": "python",
   "pygments_lexer": "ipython3",
   "version": "3.7.7"
  },
  "toc": {
   "base_numbering": 1,
   "nav_menu": {},
   "number_sections": true,
   "sideBar": true,
   "skip_h1_title": false,
   "title_cell": "Table of Contents",
   "title_sidebar": "Contents",
   "toc_cell": false,
   "toc_position": {},
   "toc_section_display": true,
   "toc_window_display": false
  }
 },
 "nbformat": 4,
 "nbformat_minor": 2
}
